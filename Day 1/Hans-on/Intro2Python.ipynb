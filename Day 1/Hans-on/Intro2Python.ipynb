{
  "nbformat": 4,
  "nbformat_minor": 0,
  "metadata": {
    "colab": {
      "provenance": []
    },
    "kernelspec": {
      "name": "python3",
      "display_name": "Python 3"
    },
    "language_info": {
      "name": "python"
    }
  },
  "cells": [
    {
      "cell_type": "markdown",
      "source": [
        "**Welcome to the LAVA 2025** at IIT Guwahati. The goal of current seasson is to develope basic understanding of the python programming language."
      ],
      "metadata": {
        "id": "bq1H9keIY--6"
      }
    },
    {
      "cell_type": "markdown",
      "source": [
        "**Mount Google Drive in Colab**"
      ],
      "metadata": {
        "id": "gl2880ouhzty"
      }
    },
    {
      "cell_type": "code",
      "execution_count": null,
      "metadata": {
        "id": "8kqv7WScgoDH"
      },
      "outputs": [],
      "source": [
        "# import library\n",
        "from google.colab import drive\n",
        "import os"
      ]
    },
    {
      "cell_type": "code",
      "source": [
        "# Step 1: Mount Google Drive\n",
        "drive.mount('/content/drive')"
      ],
      "metadata": {
        "colab": {
          "base_uri": "https://localhost:8080/"
        },
        "id": "1GPIHNjniCqD",
        "outputId": "9d25a5b4-feef-4b5f-b4d2-3fc5479d12ff"
      },
      "execution_count": null,
      "outputs": [
        {
          "output_type": "stream",
          "name": "stdout",
          "text": [
            "Mounted at /content/drive\n"
          ]
        }
      ]
    },
    {
      "cell_type": "code",
      "source": [
        "# Step 2: Define the folder path in your Google Drive\n",
        "folder_path = '/content/drive/MyDrive/LAVA 2025/Hands-on/Day 1'"
      ],
      "metadata": {
        "id": "jSq6n3O8iIya"
      },
      "execution_count": null,
      "outputs": []
    },
    {
      "cell_type": "code",
      "source": [
        "# Step 3: Create the folder if it doesn't already exist\n",
        "if not os.path.exists(folder_path):\n",
        "    os.makedirs(folder_path)\n",
        "    print(f\"Folder created: {folder_path}\")\n",
        "else:\n",
        "    print(f\"Folder already exists: {folder_path}\")"
      ],
      "metadata": {
        "colab": {
          "base_uri": "https://localhost:8080/"
        },
        "id": "8lAnl3vRjxNd",
        "outputId": "6656bcf4-0d87-4bb6-b1cc-0ef58f9875a4"
      },
      "execution_count": null,
      "outputs": [
        {
          "output_type": "stream",
          "name": "stdout",
          "text": [
            "Folder already exists: /content/drive/MyDrive/LAVA 2025/Hands-on/Day 1\n"
          ]
        }
      ]
    },
    {
      "cell_type": "code",
      "source": [
        "# Step 3: Create and write in a file\n",
        "with open('/content/drive/MyDrive/LAVA 2025/Hands-on/Day 1/foo.txt', 'w') as f:\n",
        "  f.write('Hello Google Drive!')\n",
        "!cat /content/drive/MyDrive/LAVA\\ 2025/Hands-on/Day\\ 1/foo.txt"
      ],
      "metadata": {
        "colab": {
          "base_uri": "https://localhost:8080/"
        },
        "id": "ll1w_GOproAa",
        "outputId": "d99da1e1-caba-4a97-936f-ce06543805ea"
      },
      "execution_count": null,
      "outputs": [
        {
          "output_type": "stream",
          "name": "stdout",
          "text": [
            "Hello Google Drive!"
          ]
        }
      ]
    },
    {
      "cell_type": "markdown",
      "source": [
        "**Topic 1:** Python Object and Data Structure Basic"
      ],
      "metadata": {
        "id": "Qde0V5cPj6mT"
      }
    },
    {
      "cell_type": "code",
      "source": [
        "# First python program\n",
        "print(\"LAVA 2025\")\n"
      ],
      "metadata": {
        "colab": {
          "base_uri": "https://localhost:8080/"
        },
        "id": "60PnMG43nhb_",
        "outputId": "d99228eb-5ab9-46b6-b7f1-2cee8ecfc3cf"
      },
      "execution_count": null,
      "outputs": [
        {
          "output_type": "stream",
          "name": "stdout",
          "text": [
            "LAVA 2025\n"
          ]
        }
      ]
    },
    {
      "cell_type": "markdown",
      "source": [
        "**Variable:** A variable is a container for storing data values. It acts as a named reference to a value in memory."
      ],
      "metadata": {
        "id": "woF-WRmp8aIM"
      }
    },
    {
      "cell_type": "code",
      "source": [
        "# Variables:\n",
        "Age = 25\n",
        "Name = \"Suklav\"\n",
        "print(\"Age:\", Age)\n",
        "print(\"Name:\", Name)"
      ],
      "metadata": {
        "colab": {
          "base_uri": "https://localhost:8080/"
        },
        "id": "AUnxQ9Mo7RTK",
        "outputId": "044d9692-d390-4f07-99d2-7651495e92fb"
      },
      "execution_count": null,
      "outputs": [
        {
          "output_type": "stream",
          "name": "stdout",
          "text": [
            "Age: 25\n",
            "Name: Suklav\n"
          ]
        }
      ]
    },
    {
      "cell_type": "code",
      "source": [
        "# User Input\n",
        "EvenNum = input(\"First even number?: \")"
      ],
      "metadata": {
        "colab": {
          "base_uri": "https://localhost:8080/"
        },
        "id": "wdoTaX8V5_m7",
        "outputId": "188138b8-62b0-4e9e-e3d2-c21454a6ca09"
      },
      "execution_count": null,
      "outputs": [
        {
          "name": "stdout",
          "output_type": "stream",
          "text": [
            "First even number?: 2\n"
          ]
        }
      ]
    },
    {
      "cell_type": "code",
      "source": [
        "print(EvenNum)"
      ],
      "metadata": {
        "colab": {
          "base_uri": "https://localhost:8080/"
        },
        "id": "fb5o0wR5i4K2",
        "outputId": "f0fd54c2-94cf-45ac-9d41-c8392487a380"
      },
      "execution_count": null,
      "outputs": [
        {
          "output_type": "stream",
          "name": "stdout",
          "text": [
            "2\n"
          ]
        }
      ]
    },
    {
      "cell_type": "code",
      "source": [
        "# Default input datatype\n",
        "type(EvenNum)"
      ],
      "metadata": {
        "colab": {
          "base_uri": "https://localhost:8080/"
        },
        "id": "hzLeRHLZ6cpE",
        "outputId": "a5d8a7c6-3b18-4991-ce39-a57efc4ae046"
      },
      "execution_count": null,
      "outputs": [
        {
          "output_type": "execute_result",
          "data": {
            "text/plain": [
              "str"
            ]
          },
          "metadata": {},
          "execution_count": 14
        }
      ]
    },
    {
      "cell_type": "code",
      "source": [
        "print(\"The user input is \" + EvenNum) # concatination"
      ],
      "metadata": {
        "colab": {
          "base_uri": "https://localhost:8080/"
        },
        "id": "JwlQdEss8_BX",
        "outputId": "abdaee28-6edc-4096-d2bc-d82b9dc2c14b"
      },
      "execution_count": null,
      "outputs": [
        {
          "output_type": "stream",
          "name": "stdout",
          "text": [
            "The user input is 2\n"
          ]
        }
      ]
    },
    {
      "cell_type": "code",
      "source": [],
      "metadata": {
        "id": "n5ryKZ4t508K"
      },
      "execution_count": null,
      "outputs": []
    },
    {
      "cell_type": "markdown",
      "source": [
        "**Data Types:** A data type specifies the type of data a variable can hold."
      ],
      "metadata": {
        "id": "89Q2qmys825Y"
      }
    },
    {
      "cell_type": "markdown",
      "source": [
        "![dataType.png](data:image/png;base64,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)"
      ],
      "metadata": {
        "id": "8-qcTV6J8XJ7"
      }
    },
    {
      "cell_type": "code",
      "source": [
        "# Arithmetic operations\n",
        "EvenNum + 5 #TypeError: can only concatenate str (not \"int\") to str\n"
      ],
      "metadata": {
        "colab": {
          "base_uri": "https://localhost:8080/",
          "height": 158
        },
        "id": "gfyyNa236uZo",
        "outputId": "eba38d4a-39c0-42f5-84ba-25db2b8148a7"
      },
      "execution_count": null,
      "outputs": [
        {
          "output_type": "error",
          "ename": "TypeError",
          "evalue": "can only concatenate str (not \"int\") to str",
          "traceback": [
            "\u001b[0;31m---------------------------------------------------------------------------\u001b[0m",
            "\u001b[0;31mTypeError\u001b[0m                                 Traceback (most recent call last)",
            "\u001b[0;32m/tmp/ipython-input-18-1367695556.py\u001b[0m in \u001b[0;36m<cell line: 0>\u001b[0;34m()\u001b[0m\n\u001b[1;32m      1\u001b[0m \u001b[0;31m# Arithmetic operations\u001b[0m\u001b[0;34m\u001b[0m\u001b[0;34m\u001b[0m\u001b[0m\n\u001b[0;32m----> 2\u001b[0;31m \u001b[0mEvenNum\u001b[0m \u001b[0;34m+\u001b[0m \u001b[0;36m5\u001b[0m \u001b[0;31m#TypeError: can only concatenate str (not \"int\") to str\u001b[0m\u001b[0;34m\u001b[0m\u001b[0;34m\u001b[0m\u001b[0m\n\u001b[0m",
            "\u001b[0;31mTypeError\u001b[0m: can only concatenate str (not \"int\") to str"
          ]
        }
      ]
    },
    {
      "cell_type": "code",
      "source": [
        "#type conversion: 24, \"Suklav\", True\n",
        "EvenNum = int(EvenNum)"
      ],
      "metadata": {
        "id": "uX11aOIF73nU"
      },
      "execution_count": null,
      "outputs": []
    },
    {
      "cell_type": "code",
      "source": [
        "type(EvenNum)"
      ],
      "metadata": {
        "colab": {
          "base_uri": "https://localhost:8080/"
        },
        "id": "nZxLUyol6h0P",
        "outputId": "2e6963d4-71fa-404b-db2b-21a600072c5c"
      },
      "execution_count": null,
      "outputs": [
        {
          "output_type": "execute_result",
          "data": {
            "text/plain": [
              "int"
            ]
          },
          "metadata": {},
          "execution_count": 20
        }
      ]
    },
    {
      "cell_type": "code",
      "source": [
        "EvenNum + 5"
      ],
      "metadata": {
        "colab": {
          "base_uri": "https://localhost:8080/"
        },
        "id": "xTWk_0hzrhSA",
        "outputId": "3dc857a0-9db7-4f70-80a7-bfffdb749c03"
      },
      "execution_count": null,
      "outputs": [
        {
          "output_type": "execute_result",
          "data": {
            "text/plain": [
              "7"
            ]
          },
          "metadata": {},
          "execution_count": 21
        }
      ]
    },
    {
      "cell_type": "code",
      "source": [
        "# prompt: table for python operator and operations\n",
        "\n",
        "import pandas as pd\n",
        "\n",
        "data = {\n",
        "    'Operator': ['+', '-', '*', '/', '%', '**', '//', '<<', '>>', '&', '|', '^', '~', '==', '!=', '>', '<', '>=', '<=', 'and', 'or', 'not in', 'in', 'is', 'is not'],\n",
        "    'Operation': ['Addition', 'Subtraction', 'Multiplication', 'Division', 'Modulus', 'Exponentiation', 'Floor Division', 'Left Shift', 'Right Shift', 'Bitwise AND', 'Bitwise OR', 'Bitwise XOR', 'Bitwise NOT', 'Equal to', 'Not equal to', 'Greater than', 'Less than', 'Greater than or equal to', 'Less than or equal to', 'Logical AND', 'Logical OR', 'Not in', 'In', 'Is', 'Is not']\n",
        "}\n",
        "\n",
        "df = pd.DataFrame(data)\n",
        "df"
      ],
      "metadata": {
        "colab": {
          "base_uri": "https://localhost:8080/",
          "height": 833
        },
        "id": "D0srwxkCruaP",
        "outputId": "84fc3704-6ba1-41dc-ea3c-6bf4e6b7853d"
      },
      "execution_count": null,
      "outputs": [
        {
          "output_type": "execute_result",
          "data": {
            "text/plain": [
              "   Operator                 Operation\n",
              "0         +                  Addition\n",
              "1         -               Subtraction\n",
              "2         *            Multiplication\n",
              "3         /                  Division\n",
              "4         %                   Modulus\n",
              "5        **            Exponentiation\n",
              "6        //            Floor Division\n",
              "7        <<                Left Shift\n",
              "8        >>               Right Shift\n",
              "9         &               Bitwise AND\n",
              "10        |                Bitwise OR\n",
              "11        ^               Bitwise XOR\n",
              "12        ~               Bitwise NOT\n",
              "13       ==                  Equal to\n",
              "14       !=              Not equal to\n",
              "15        >              Greater than\n",
              "16        <                 Less than\n",
              "17       >=  Greater than or equal to\n",
              "18       <=     Less than or equal to\n",
              "19      and               Logical AND\n",
              "20       or                Logical OR\n",
              "21   not in                    Not in\n",
              "22       in                        In\n",
              "23       is                        Is\n",
              "24   is not                    Is not"
            ],
            "text/html": [
              "\n",
              "  <div id=\"df-9b88a4ea-1875-4968-acdb-1ef253a9ec5f\" class=\"colab-df-container\">\n",
              "    <div>\n",
              "<style scoped>\n",
              "    .dataframe tbody tr th:only-of-type {\n",
              "        vertical-align: middle;\n",
              "    }\n",
              "\n",
              "    .dataframe tbody tr th {\n",
              "        vertical-align: top;\n",
              "    }\n",
              "\n",
              "    .dataframe thead th {\n",
              "        text-align: right;\n",
              "    }\n",
              "</style>\n",
              "<table border=\"1\" class=\"dataframe\">\n",
              "  <thead>\n",
              "    <tr style=\"text-align: right;\">\n",
              "      <th></th>\n",
              "      <th>Operator</th>\n",
              "      <th>Operation</th>\n",
              "    </tr>\n",
              "  </thead>\n",
              "  <tbody>\n",
              "    <tr>\n",
              "      <th>0</th>\n",
              "      <td>+</td>\n",
              "      <td>Addition</td>\n",
              "    </tr>\n",
              "    <tr>\n",
              "      <th>1</th>\n",
              "      <td>-</td>\n",
              "      <td>Subtraction</td>\n",
              "    </tr>\n",
              "    <tr>\n",
              "      <th>2</th>\n",
              "      <td>*</td>\n",
              "      <td>Multiplication</td>\n",
              "    </tr>\n",
              "    <tr>\n",
              "      <th>3</th>\n",
              "      <td>/</td>\n",
              "      <td>Division</td>\n",
              "    </tr>\n",
              "    <tr>\n",
              "      <th>4</th>\n",
              "      <td>%</td>\n",
              "      <td>Modulus</td>\n",
              "    </tr>\n",
              "    <tr>\n",
              "      <th>5</th>\n",
              "      <td>**</td>\n",
              "      <td>Exponentiation</td>\n",
              "    </tr>\n",
              "    <tr>\n",
              "      <th>6</th>\n",
              "      <td>//</td>\n",
              "      <td>Floor Division</td>\n",
              "    </tr>\n",
              "    <tr>\n",
              "      <th>7</th>\n",
              "      <td>&lt;&lt;</td>\n",
              "      <td>Left Shift</td>\n",
              "    </tr>\n",
              "    <tr>\n",
              "      <th>8</th>\n",
              "      <td>&gt;&gt;</td>\n",
              "      <td>Right Shift</td>\n",
              "    </tr>\n",
              "    <tr>\n",
              "      <th>9</th>\n",
              "      <td>&amp;</td>\n",
              "      <td>Bitwise AND</td>\n",
              "    </tr>\n",
              "    <tr>\n",
              "      <th>10</th>\n",
              "      <td>|</td>\n",
              "      <td>Bitwise OR</td>\n",
              "    </tr>\n",
              "    <tr>\n",
              "      <th>11</th>\n",
              "      <td>^</td>\n",
              "      <td>Bitwise XOR</td>\n",
              "    </tr>\n",
              "    <tr>\n",
              "      <th>12</th>\n",
              "      <td>~</td>\n",
              "      <td>Bitwise NOT</td>\n",
              "    </tr>\n",
              "    <tr>\n",
              "      <th>13</th>\n",
              "      <td>==</td>\n",
              "      <td>Equal to</td>\n",
              "    </tr>\n",
              "    <tr>\n",
              "      <th>14</th>\n",
              "      <td>!=</td>\n",
              "      <td>Not equal to</td>\n",
              "    </tr>\n",
              "    <tr>\n",
              "      <th>15</th>\n",
              "      <td>&gt;</td>\n",
              "      <td>Greater than</td>\n",
              "    </tr>\n",
              "    <tr>\n",
              "      <th>16</th>\n",
              "      <td>&lt;</td>\n",
              "      <td>Less than</td>\n",
              "    </tr>\n",
              "    <tr>\n",
              "      <th>17</th>\n",
              "      <td>&gt;=</td>\n",
              "      <td>Greater than or equal to</td>\n",
              "    </tr>\n",
              "    <tr>\n",
              "      <th>18</th>\n",
              "      <td>&lt;=</td>\n",
              "      <td>Less than or equal to</td>\n",
              "    </tr>\n",
              "    <tr>\n",
              "      <th>19</th>\n",
              "      <td>and</td>\n",
              "      <td>Logical AND</td>\n",
              "    </tr>\n",
              "    <tr>\n",
              "      <th>20</th>\n",
              "      <td>or</td>\n",
              "      <td>Logical OR</td>\n",
              "    </tr>\n",
              "    <tr>\n",
              "      <th>21</th>\n",
              "      <td>not in</td>\n",
              "      <td>Not in</td>\n",
              "    </tr>\n",
              "    <tr>\n",
              "      <th>22</th>\n",
              "      <td>in</td>\n",
              "      <td>In</td>\n",
              "    </tr>\n",
              "    <tr>\n",
              "      <th>23</th>\n",
              "      <td>is</td>\n",
              "      <td>Is</td>\n",
              "    </tr>\n",
              "    <tr>\n",
              "      <th>24</th>\n",
              "      <td>is not</td>\n",
              "      <td>Is not</td>\n",
              "    </tr>\n",
              "  </tbody>\n",
              "</table>\n",
              "</div>\n",
              "    <div class=\"colab-df-buttons\">\n",
              "\n",
              "  <div class=\"colab-df-container\">\n",
              "    <button class=\"colab-df-convert\" onclick=\"convertToInteractive('df-9b88a4ea-1875-4968-acdb-1ef253a9ec5f')\"\n",
              "            title=\"Convert this dataframe to an interactive table.\"\n",
              "            style=\"display:none;\">\n",
              "\n",
              "  <svg xmlns=\"http://www.w3.org/2000/svg\" height=\"24px\" viewBox=\"0 -960 960 960\">\n",
              "    <path d=\"M120-120v-720h720v720H120Zm60-500h600v-160H180v160Zm220 220h160v-160H400v160Zm0 220h160v-160H400v160ZM180-400h160v-160H180v160Zm440 0h160v-160H620v160ZM180-180h160v-160H180v160Zm440 0h160v-160H620v160Z\"/>\n",
              "  </svg>\n",
              "    </button>\n",
              "\n",
              "  <style>\n",
              "    .colab-df-container {\n",
              "      display:flex;\n",
              "      gap: 12px;\n",
              "    }\n",
              "\n",
              "    .colab-df-convert {\n",
              "      background-color: #E8F0FE;\n",
              "      border: none;\n",
              "      border-radius: 50%;\n",
              "      cursor: pointer;\n",
              "      display: none;\n",
              "      fill: #1967D2;\n",
              "      height: 32px;\n",
              "      padding: 0 0 0 0;\n",
              "      width: 32px;\n",
              "    }\n",
              "\n",
              "    .colab-df-convert:hover {\n",
              "      background-color: #E2EBFA;\n",
              "      box-shadow: 0px 1px 2px rgba(60, 64, 67, 0.3), 0px 1px 3px 1px rgba(60, 64, 67, 0.15);\n",
              "      fill: #174EA6;\n",
              "    }\n",
              "\n",
              "    .colab-df-buttons div {\n",
              "      margin-bottom: 4px;\n",
              "    }\n",
              "\n",
              "    [theme=dark] .colab-df-convert {\n",
              "      background-color: #3B4455;\n",
              "      fill: #D2E3FC;\n",
              "    }\n",
              "\n",
              "    [theme=dark] .colab-df-convert:hover {\n",
              "      background-color: #434B5C;\n",
              "      box-shadow: 0px 1px 3px 1px rgba(0, 0, 0, 0.15);\n",
              "      filter: drop-shadow(0px 1px 2px rgba(0, 0, 0, 0.3));\n",
              "      fill: #FFFFFF;\n",
              "    }\n",
              "  </style>\n",
              "\n",
              "    <script>\n",
              "      const buttonEl =\n",
              "        document.querySelector('#df-9b88a4ea-1875-4968-acdb-1ef253a9ec5f button.colab-df-convert');\n",
              "      buttonEl.style.display =\n",
              "        google.colab.kernel.accessAllowed ? 'block' : 'none';\n",
              "\n",
              "      async function convertToInteractive(key) {\n",
              "        const element = document.querySelector('#df-9b88a4ea-1875-4968-acdb-1ef253a9ec5f');\n",
              "        const dataTable =\n",
              "          await google.colab.kernel.invokeFunction('convertToInteractive',\n",
              "                                                    [key], {});\n",
              "        if (!dataTable) return;\n",
              "\n",
              "        const docLinkHtml = 'Like what you see? Visit the ' +\n",
              "          '<a target=\"_blank\" href=https://colab.research.google.com/notebooks/data_table.ipynb>data table notebook</a>'\n",
              "          + ' to learn more about interactive tables.';\n",
              "        element.innerHTML = '';\n",
              "        dataTable['output_type'] = 'display_data';\n",
              "        await google.colab.output.renderOutput(dataTable, element);\n",
              "        const docLink = document.createElement('div');\n",
              "        docLink.innerHTML = docLinkHtml;\n",
              "        element.appendChild(docLink);\n",
              "      }\n",
              "    </script>\n",
              "  </div>\n",
              "\n",
              "\n",
              "    <div id=\"df-69f627a2-de77-4c55-9b87-0b098877122e\">\n",
              "      <button class=\"colab-df-quickchart\" onclick=\"quickchart('df-69f627a2-de77-4c55-9b87-0b098877122e')\"\n",
              "                title=\"Suggest charts\"\n",
              "                style=\"display:none;\">\n",
              "\n",
              "<svg xmlns=\"http://www.w3.org/2000/svg\" height=\"24px\"viewBox=\"0 0 24 24\"\n",
              "     width=\"24px\">\n",
              "    <g>\n",
              "        <path d=\"M19 3H5c-1.1 0-2 .9-2 2v14c0 1.1.9 2 2 2h14c1.1 0 2-.9 2-2V5c0-1.1-.9-2-2-2zM9 17H7v-7h2v7zm4 0h-2V7h2v10zm4 0h-2v-4h2v4z\"/>\n",
              "    </g>\n",
              "</svg>\n",
              "      </button>\n",
              "\n",
              "<style>\n",
              "  .colab-df-quickchart {\n",
              "      --bg-color: #E8F0FE;\n",
              "      --fill-color: #1967D2;\n",
              "      --hover-bg-color: #E2EBFA;\n",
              "      --hover-fill-color: #174EA6;\n",
              "      --disabled-fill-color: #AAA;\n",
              "      --disabled-bg-color: #DDD;\n",
              "  }\n",
              "\n",
              "  [theme=dark] .colab-df-quickchart {\n",
              "      --bg-color: #3B4455;\n",
              "      --fill-color: #D2E3FC;\n",
              "      --hover-bg-color: #434B5C;\n",
              "      --hover-fill-color: #FFFFFF;\n",
              "      --disabled-bg-color: #3B4455;\n",
              "      --disabled-fill-color: #666;\n",
              "  }\n",
              "\n",
              "  .colab-df-quickchart {\n",
              "    background-color: var(--bg-color);\n",
              "    border: none;\n",
              "    border-radius: 50%;\n",
              "    cursor: pointer;\n",
              "    display: none;\n",
              "    fill: var(--fill-color);\n",
              "    height: 32px;\n",
              "    padding: 0;\n",
              "    width: 32px;\n",
              "  }\n",
              "\n",
              "  .colab-df-quickchart:hover {\n",
              "    background-color: var(--hover-bg-color);\n",
              "    box-shadow: 0 1px 2px rgba(60, 64, 67, 0.3), 0 1px 3px 1px rgba(60, 64, 67, 0.15);\n",
              "    fill: var(--button-hover-fill-color);\n",
              "  }\n",
              "\n",
              "  .colab-df-quickchart-complete:disabled,\n",
              "  .colab-df-quickchart-complete:disabled:hover {\n",
              "    background-color: var(--disabled-bg-color);\n",
              "    fill: var(--disabled-fill-color);\n",
              "    box-shadow: none;\n",
              "  }\n",
              "\n",
              "  .colab-df-spinner {\n",
              "    border: 2px solid var(--fill-color);\n",
              "    border-color: transparent;\n",
              "    border-bottom-color: var(--fill-color);\n",
              "    animation:\n",
              "      spin 1s steps(1) infinite;\n",
              "  }\n",
              "\n",
              "  @keyframes spin {\n",
              "    0% {\n",
              "      border-color: transparent;\n",
              "      border-bottom-color: var(--fill-color);\n",
              "      border-left-color: var(--fill-color);\n",
              "    }\n",
              "    20% {\n",
              "      border-color: transparent;\n",
              "      border-left-color: var(--fill-color);\n",
              "      border-top-color: var(--fill-color);\n",
              "    }\n",
              "    30% {\n",
              "      border-color: transparent;\n",
              "      border-left-color: var(--fill-color);\n",
              "      border-top-color: var(--fill-color);\n",
              "      border-right-color: var(--fill-color);\n",
              "    }\n",
              "    40% {\n",
              "      border-color: transparent;\n",
              "      border-right-color: var(--fill-color);\n",
              "      border-top-color: var(--fill-color);\n",
              "    }\n",
              "    60% {\n",
              "      border-color: transparent;\n",
              "      border-right-color: var(--fill-color);\n",
              "    }\n",
              "    80% {\n",
              "      border-color: transparent;\n",
              "      border-right-color: var(--fill-color);\n",
              "      border-bottom-color: var(--fill-color);\n",
              "    }\n",
              "    90% {\n",
              "      border-color: transparent;\n",
              "      border-bottom-color: var(--fill-color);\n",
              "    }\n",
              "  }\n",
              "</style>\n",
              "\n",
              "      <script>\n",
              "        async function quickchart(key) {\n",
              "          const quickchartButtonEl =\n",
              "            document.querySelector('#' + key + ' button');\n",
              "          quickchartButtonEl.disabled = true;  // To prevent multiple clicks.\n",
              "          quickchartButtonEl.classList.add('colab-df-spinner');\n",
              "          try {\n",
              "            const charts = await google.colab.kernel.invokeFunction(\n",
              "                'suggestCharts', [key], {});\n",
              "          } catch (error) {\n",
              "            console.error('Error during call to suggestCharts:', error);\n",
              "          }\n",
              "          quickchartButtonEl.classList.remove('colab-df-spinner');\n",
              "          quickchartButtonEl.classList.add('colab-df-quickchart-complete');\n",
              "        }\n",
              "        (() => {\n",
              "          let quickchartButtonEl =\n",
              "            document.querySelector('#df-69f627a2-de77-4c55-9b87-0b098877122e button');\n",
              "          quickchartButtonEl.style.display =\n",
              "            google.colab.kernel.accessAllowed ? 'block' : 'none';\n",
              "        })();\n",
              "      </script>\n",
              "    </div>\n",
              "\n",
              "  <div id=\"id_fc6c23f2-8432-4827-ac41-e895f07dfb25\">\n",
              "    <style>\n",
              "      .colab-df-generate {\n",
              "        background-color: #E8F0FE;\n",
              "        border: none;\n",
              "        border-radius: 50%;\n",
              "        cursor: pointer;\n",
              "        display: none;\n",
              "        fill: #1967D2;\n",
              "        height: 32px;\n",
              "        padding: 0 0 0 0;\n",
              "        width: 32px;\n",
              "      }\n",
              "\n",
              "      .colab-df-generate:hover {\n",
              "        background-color: #E2EBFA;\n",
              "        box-shadow: 0px 1px 2px rgba(60, 64, 67, 0.3), 0px 1px 3px 1px rgba(60, 64, 67, 0.15);\n",
              "        fill: #174EA6;\n",
              "      }\n",
              "\n",
              "      [theme=dark] .colab-df-generate {\n",
              "        background-color: #3B4455;\n",
              "        fill: #D2E3FC;\n",
              "      }\n",
              "\n",
              "      [theme=dark] .colab-df-generate:hover {\n",
              "        background-color: #434B5C;\n",
              "        box-shadow: 0px 1px 3px 1px rgba(0, 0, 0, 0.15);\n",
              "        filter: drop-shadow(0px 1px 2px rgba(0, 0, 0, 0.3));\n",
              "        fill: #FFFFFF;\n",
              "      }\n",
              "    </style>\n",
              "    <button class=\"colab-df-generate\" onclick=\"generateWithVariable('df')\"\n",
              "            title=\"Generate code using this dataframe.\"\n",
              "            style=\"display:none;\">\n",
              "\n",
              "  <svg xmlns=\"http://www.w3.org/2000/svg\" height=\"24px\"viewBox=\"0 0 24 24\"\n",
              "       width=\"24px\">\n",
              "    <path d=\"M7,19H8.4L18.45,9,17,7.55,7,17.6ZM5,21V16.75L18.45,3.32a2,2,0,0,1,2.83,0l1.4,1.43a1.91,1.91,0,0,1,.58,1.4,1.91,1.91,0,0,1-.58,1.4L9.25,21ZM18.45,9,17,7.55Zm-12,3A5.31,5.31,0,0,0,4.9,8.1,5.31,5.31,0,0,0,1,6.5,5.31,5.31,0,0,0,4.9,4.9,5.31,5.31,0,0,0,6.5,1,5.31,5.31,0,0,0,8.1,4.9,5.31,5.31,0,0,0,12,6.5,5.46,5.46,0,0,0,6.5,12Z\"/>\n",
              "  </svg>\n",
              "    </button>\n",
              "    <script>\n",
              "      (() => {\n",
              "      const buttonEl =\n",
              "        document.querySelector('#id_fc6c23f2-8432-4827-ac41-e895f07dfb25 button.colab-df-generate');\n",
              "      buttonEl.style.display =\n",
              "        google.colab.kernel.accessAllowed ? 'block' : 'none';\n",
              "\n",
              "      buttonEl.onclick = () => {\n",
              "        google.colab.notebook.generateWithVariable('df');\n",
              "      }\n",
              "      })();\n",
              "    </script>\n",
              "  </div>\n",
              "\n",
              "    </div>\n",
              "  </div>\n"
            ],
            "application/vnd.google.colaboratory.intrinsic+json": {
              "type": "dataframe",
              "variable_name": "df",
              "summary": "{\n  \"name\": \"df\",\n  \"rows\": 25,\n  \"fields\": [\n    {\n      \"column\": \"Operator\",\n      \"properties\": {\n        \"dtype\": \"string\",\n        \"num_unique_values\": 25,\n        \"samples\": [\n          \">>\",\n          \"<\",\n          \"+\"\n        ],\n        \"semantic_type\": \"\",\n        \"description\": \"\"\n      }\n    },\n    {\n      \"column\": \"Operation\",\n      \"properties\": {\n        \"dtype\": \"string\",\n        \"num_unique_values\": 25,\n        \"samples\": [\n          \"Right Shift\",\n          \"Less than\",\n          \"Addition\"\n        ],\n        \"semantic_type\": \"\",\n        \"description\": \"\"\n      }\n    }\n  ]\n}"
            }
          },
          "metadata": {},
          "execution_count": 23
        }
      ]
    },
    {
      "cell_type": "code",
      "source": [
        "# Examples for type conversion\n",
        "#float(EvenNum)\n",
        "#bool(EvenNum)\n",
        "#bool(0)"
      ],
      "metadata": {
        "id": "CSUQpf1qtx-e"
      },
      "execution_count": null,
      "outputs": []
    },
    {
      "cell_type": "markdown",
      "source": [
        "**String DataType**"
      ],
      "metadata": {
        "id": "3k_GgNVstiyC"
      }
    },
    {
      "cell_type": "code",
      "source": [
        "course = 'Summer School 2025'"
      ],
      "metadata": {
        "id": "ImQTVR9js5k6"
      },
      "execution_count": null,
      "outputs": []
    },
    {
      "cell_type": "code",
      "source": [
        "# object specific functions"
      ],
      "metadata": {
        "id": "eMaOHopay6tD"
      },
      "execution_count": null,
      "outputs": []
    },
    {
      "cell_type": "code",
      "source": [
        "course.upper()"
      ],
      "metadata": {
        "colab": {
          "base_uri": "https://localhost:8080/",
          "height": 35
        },
        "id": "M4JfDguixy_d",
        "outputId": "08522a9c-849b-4782-9450-914d2f7ebe5e"
      },
      "execution_count": null,
      "outputs": [
        {
          "output_type": "execute_result",
          "data": {
            "text/plain": [
              "'SUMMER SCHOOL 2025'"
            ],
            "application/vnd.google.colaboratory.intrinsic+json": {
              "type": "string"
            }
          },
          "metadata": {},
          "execution_count": 25
        }
      ]
    },
    {
      "cell_type": "code",
      "source": [
        "#not inplace\n",
        "course"
      ],
      "metadata": {
        "colab": {
          "base_uri": "https://localhost:8080/",
          "height": 35
        },
        "id": "jBYoZT0-x3Zf",
        "outputId": "b50824e1-3298-4934-cd38-13d2c750acea"
      },
      "execution_count": null,
      "outputs": [
        {
          "output_type": "execute_result",
          "data": {
            "text/plain": [
              "'Summer School 2025'"
            ],
            "application/vnd.google.colaboratory.intrinsic+json": {
              "type": "string"
            }
          },
          "metadata": {},
          "execution_count": 26
        }
      ]
    },
    {
      "cell_type": "code",
      "source": [
        "course.find('2')"
      ],
      "metadata": {
        "colab": {
          "base_uri": "https://localhost:8080/"
        },
        "id": "SO5pNCT6zOd_",
        "outputId": "0f79a7c0-dece-4b38-8a4b-ff49a491761c"
      },
      "execution_count": null,
      "outputs": [
        {
          "output_type": "execute_result",
          "data": {
            "text/plain": [
              "14"
            ]
          },
          "metadata": {},
          "execution_count": 32
        }
      ]
    },
    {
      "cell_type": "code",
      "source": [
        "course.find('Summer')"
      ],
      "metadata": {
        "colab": {
          "base_uri": "https://localhost:8080/"
        },
        "id": "Y1PlKgCyzYjW",
        "outputId": "494536b4-56a5-480e-ead9-9c0fb2f3bf97"
      },
      "execution_count": null,
      "outputs": [
        {
          "output_type": "execute_result",
          "data": {
            "text/plain": [
              "0"
            ]
          },
          "metadata": {},
          "execution_count": 35
        }
      ]
    },
    {
      "cell_type": "code",
      "source": [
        "course.replace('2025', '2024')"
      ],
      "metadata": {
        "colab": {
          "base_uri": "https://localhost:8080/",
          "height": 35
        },
        "id": "YEd0KcRC02BY",
        "outputId": "a924fa89-6bab-4d9d-9091-da0f14798db2"
      },
      "execution_count": null,
      "outputs": [
        {
          "output_type": "execute_result",
          "data": {
            "text/plain": [
              "'Summer School 2024'"
            ],
            "application/vnd.google.colaboratory.intrinsic+json": {
              "type": "string"
            }
          },
          "metadata": {},
          "execution_count": 36
        }
      ]
    },
    {
      "cell_type": "code",
      "source": [
        "len(course)"
      ],
      "metadata": {
        "colab": {
          "base_uri": "https://localhost:8080/"
        },
        "id": "DJyPkAp-CqWv",
        "outputId": "602f4eca-27d0-4aa7-80da-a2b720614e13"
      },
      "execution_count": null,
      "outputs": [
        {
          "output_type": "execute_result",
          "data": {
            "text/plain": [
              "18"
            ]
          },
          "metadata": {},
          "execution_count": 38
        }
      ]
    },
    {
      "cell_type": "code",
      "source": [
        "course[0:10]"
      ],
      "metadata": {
        "colab": {
          "base_uri": "https://localhost:8080/",
          "height": 35
        },
        "id": "YKKHE--tCuMM",
        "outputId": "ce5cf04d-bc24-4fac-a601-cc6446e2237d"
      },
      "execution_count": null,
      "outputs": [
        {
          "output_type": "execute_result",
          "data": {
            "text/plain": [
              "'Summer Sch'"
            ],
            "application/vnd.google.colaboratory.intrinsic+json": {
              "type": "string"
            }
          },
          "metadata": {},
          "execution_count": 43
        }
      ]
    },
    {
      "cell_type": "code",
      "source": [
        "course[3:-2]"
      ],
      "metadata": {
        "colab": {
          "base_uri": "https://localhost:8080/",
          "height": 35
        },
        "id": "xSUVmi49C06L",
        "outputId": "f9a24f3f-4401-43ae-d1ce-b3a5d623baee"
      },
      "execution_count": null,
      "outputs": [
        {
          "output_type": "execute_result",
          "data": {
            "text/plain": [
              "'mer School 20'"
            ],
            "application/vnd.google.colaboratory.intrinsic+json": {
              "type": "string"
            }
          },
          "metadata": {},
          "execution_count": 44
        }
      ]
    },
    {
      "cell_type": "code",
      "source": [
        "print('Schools' in course)"
      ],
      "metadata": {
        "colab": {
          "base_uri": "https://localhost:8080/"
        },
        "id": "eqZVvst41Ne_",
        "outputId": "dde57f6d-a889-45fd-8001-536a6223b31a"
      },
      "execution_count": null,
      "outputs": [
        {
          "output_type": "stream",
          "name": "stdout",
          "text": [
            "False\n"
          ]
        }
      ]
    },
    {
      "cell_type": "markdown",
      "source": [
        "**List in python**"
      ],
      "metadata": {
        "id": "R1tD2liPpMl-"
      }
    },
    {
      "cell_type": "code",
      "source": [
        "#list of number/string/bool\n",
        "names = ['Suklav', 'sonal', 'alik', 'akshay', 'laxita']\n",
        "print(names)"
      ],
      "metadata": {
        "colab": {
          "base_uri": "https://localhost:8080/"
        },
        "id": "qD1Kd9-9pXRH",
        "outputId": "604eac07-8416-4c59-b61a-d205843def60"
      },
      "execution_count": null,
      "outputs": [
        {
          "output_type": "stream",
          "name": "stdout",
          "text": [
            "['Suklav', 'sonal', 'alik', 'akshay', 'laxita']\n"
          ]
        }
      ]
    },
    {
      "cell_type": "code",
      "source": [
        "names[0]\n",
        "#names[0:2]\n",
        "#names[-1]\n",
        "#names[-2:]"
      ],
      "metadata": {
        "colab": {
          "base_uri": "https://localhost:8080/",
          "height": 35
        },
        "id": "fr96g1VQpwOu",
        "outputId": "20d63389-a714-4078-e304-ee2f2b574e0e"
      },
      "execution_count": null,
      "outputs": [
        {
          "output_type": "execute_result",
          "data": {
            "text/plain": [
              "'Suklav'"
            ],
            "application/vnd.google.colaboratory.intrinsic+json": {
              "type": "string"
            }
          },
          "metadata": {},
          "execution_count": 49
        }
      ]
    },
    {
      "cell_type": "code",
      "source": [
        "#list methods\n",
        "list1 = ['abc', 12, True, 'ok']\n",
        "print('Old: ', list1)\n",
        "# at last\n",
        "list1.append('xyz')\n",
        "print('New: ',list1)\n",
        "# mannually\n",
        "list1.insert(2, 'pqr')\n",
        "print('New: ',list1)"
      ],
      "metadata": {
        "colab": {
          "base_uri": "https://localhost:8080/"
        },
        "id": "ZYKPHYHCqKwA",
        "outputId": "0fe2a93a-f5e0-4e90-9ada-bb5faf073be1"
      },
      "execution_count": null,
      "outputs": [
        {
          "output_type": "stream",
          "name": "stdout",
          "text": [
            "Old:  ['abc', 12, True, 'ok']\n",
            "New:  ['abc', 12, True, 'ok', 'xyz']\n",
            "New:  ['abc', 12, 'pqr', True, 'ok', 'xyz']\n"
          ]
        }
      ]
    },
    {
      "cell_type": "code",
      "source": [
        "#length of list\n",
        "len(list1)"
      ],
      "metadata": {
        "colab": {
          "base_uri": "https://localhost:8080/"
        },
        "id": "xvnavqMrsXLo",
        "outputId": "5312c5a0-a731-4570-cbee-75e07c9bb51a"
      },
      "execution_count": null,
      "outputs": [
        {
          "output_type": "execute_result",
          "data": {
            "text/plain": [
              "6"
            ]
          },
          "metadata": {},
          "execution_count": 51
        }
      ]
    },
    {
      "cell_type": "code",
      "source": [
        "list1[0] = '.com'\n",
        "print(list1)"
      ],
      "metadata": {
        "colab": {
          "base_uri": "https://localhost:8080/"
        },
        "id": "vFT2PDHHu_z2",
        "outputId": "d3dda0ce-9c24-470b-bf43-dcad98341763"
      },
      "execution_count": null,
      "outputs": [
        {
          "output_type": "stream",
          "name": "stdout",
          "text": [
            "['.com', 12, 'pqr', True, 'ok', 'xyz']\n"
          ]
        }
      ]
    },
    {
      "cell_type": "code",
      "source": [
        "#remove from list\n",
        "list1.remove('.com')\n",
        "print(list1)"
      ],
      "metadata": {
        "colab": {
          "base_uri": "https://localhost:8080/"
        },
        "id": "FoBVWR-_rE8T",
        "outputId": "439ad2eb-a98c-482b-9b23-e58a495466ce"
      },
      "execution_count": null,
      "outputs": [
        {
          "output_type": "stream",
          "name": "stdout",
          "text": [
            "[12, 'pqr', True, 'ok', 'xyz']\n"
          ]
        }
      ]
    },
    {
      "cell_type": "code",
      "source": [
        "# Clear the list\n",
        "list1.clear()\n",
        "print(list1)"
      ],
      "metadata": {
        "colab": {
          "base_uri": "https://localhost:8080/"
        },
        "id": "B2MS8g-IrQzy",
        "outputId": "92d09047-d618-4985-ba8c-70afb5af062e"
      },
      "execution_count": null,
      "outputs": [
        {
          "output_type": "stream",
          "name": "stdout",
          "text": [
            "[]\n"
          ]
        }
      ]
    },
    {
      "cell_type": "code",
      "source": [
        "# Ckeck item in list\n",
        "if 'abc' in list1:\n",
        "    print('Yes')\n",
        "else:\n",
        "    print('No')"
      ],
      "metadata": {
        "colab": {
          "base_uri": "https://localhost:8080/"
        },
        "id": "UetIwMa0rnce",
        "outputId": "a338fbfc-92b9-4a73-c90b-f96c25b1e4c7"
      },
      "execution_count": null,
      "outputs": [
        {
          "output_type": "stream",
          "name": "stdout",
          "text": [
            "No\n"
          ]
        }
      ]
    },
    {
      "cell_type": "markdown",
      "source": [
        "**Tuples in Python**"
      ],
      "metadata": {
        "id": "Y1bzcflytSay"
      }
    },
    {
      "cell_type": "code",
      "source": [
        "# Unlike list, tuples are immutable.\n",
        "numbers = (1,2,3,3)\n",
        "numbers[0] = 11 #TypeError: 'tuple' object does not support item assignment"
      ],
      "metadata": {
        "colab": {
          "base_uri": "https://localhost:8080/",
          "height": 176
        },
        "id": "VoLZgXWLtRuG",
        "outputId": "b6fd4bbb-b402-4b65-e645-8169bf2ff43f"
      },
      "execution_count": null,
      "outputs": [
        {
          "output_type": "error",
          "ename": "TypeError",
          "evalue": "'tuple' object does not support item assignment",
          "traceback": [
            "\u001b[0;31m---------------------------------------------------------------------------\u001b[0m",
            "\u001b[0;31mTypeError\u001b[0m                                 Traceback (most recent call last)",
            "\u001b[0;32m/tmp/ipython-input-56-4112003301.py\u001b[0m in \u001b[0;36m<cell line: 0>\u001b[0;34m()\u001b[0m\n\u001b[1;32m      1\u001b[0m \u001b[0;31m# Unlike list, tuples are immutable.\u001b[0m\u001b[0;34m\u001b[0m\u001b[0;34m\u001b[0m\u001b[0m\n\u001b[1;32m      2\u001b[0m \u001b[0mnumbers\u001b[0m \u001b[0;34m=\u001b[0m \u001b[0;34m(\u001b[0m\u001b[0;36m1\u001b[0m\u001b[0;34m,\u001b[0m\u001b[0;36m2\u001b[0m\u001b[0;34m,\u001b[0m\u001b[0;36m3\u001b[0m\u001b[0;34m,\u001b[0m\u001b[0;36m3\u001b[0m\u001b[0;34m)\u001b[0m\u001b[0;34m\u001b[0m\u001b[0;34m\u001b[0m\u001b[0m\n\u001b[0;32m----> 3\u001b[0;31m \u001b[0mnumbers\u001b[0m\u001b[0;34m[\u001b[0m\u001b[0;36m0\u001b[0m\u001b[0;34m]\u001b[0m \u001b[0;34m=\u001b[0m \u001b[0;36m11\u001b[0m \u001b[0;31m#TypeError: 'tuple' object does not support item assignment\u001b[0m\u001b[0;34m\u001b[0m\u001b[0;34m\u001b[0m\u001b[0m\n\u001b[0m",
            "\u001b[0;31mTypeError\u001b[0m: 'tuple' object does not support item assignment"
          ]
        }
      ]
    },
    {
      "cell_type": "code",
      "source": [
        "numbers.count(3)"
      ],
      "metadata": {
        "colab": {
          "base_uri": "https://localhost:8080/"
        },
        "id": "2apNatidvd-H",
        "outputId": "41e4e0dd-021d-467f-8e3c-6ff164952cd7"
      },
      "execution_count": null,
      "outputs": [
        {
          "output_type": "execute_result",
          "data": {
            "text/plain": [
              "2"
            ]
          },
          "metadata": {},
          "execution_count": 57
        }
      ]
    },
    {
      "cell_type": "code",
      "source": [
        "numbers.index(3)"
      ],
      "metadata": {
        "colab": {
          "base_uri": "https://localhost:8080/"
        },
        "id": "J0X3QUi7vsCZ",
        "outputId": "8267a7e1-353f-488e-8597-9014c2f68e37"
      },
      "execution_count": null,
      "outputs": [
        {
          "output_type": "execute_result",
          "data": {
            "text/plain": [
              "2"
            ]
          },
          "metadata": {},
          "execution_count": 58
        }
      ]
    },
    {
      "cell_type": "markdown",
      "source": [
        "**Dictionary in Python**"
      ],
      "metadata": {
        "id": "w5A4QcK-zm4f"
      }
    },
    {
      "cell_type": "code",
      "source": [
        "# **Dictionary in Python**\n",
        "# Key-value pairs\n",
        "# Key should be immutable (number, string, tuple)\n",
        "# values can be mutable or immutable\n",
        "\n",
        "my_dict = {'name':'Suklav', 'age':25, 'city':'Kolkata'}\n",
        "print(my_dict)"
      ],
      "metadata": {
        "colab": {
          "base_uri": "https://localhost:8080/"
        },
        "id": "CCq25mLczq04",
        "outputId": "ee04f060-4144-4804-9c22-102ba7f9c5f0"
      },
      "execution_count": null,
      "outputs": [
        {
          "output_type": "stream",
          "name": "stdout",
          "text": [
            "{'name': 'Suklav', 'age': 25, 'city': 'Kolkata'}\n"
          ]
        }
      ]
    },
    {
      "cell_type": "code",
      "source": [
        "# Accessing elements\n",
        "print(my_dict['name'])\n",
        "print(my_dict.get('age')) # Returns None if key is not present"
      ],
      "metadata": {
        "colab": {
          "base_uri": "https://localhost:8080/"
        },
        "id": "QwLseLqx0Ess",
        "outputId": "6f2766f0-ca84-41ba-b08b-86a0ff6ea6e2"
      },
      "execution_count": null,
      "outputs": [
        {
          "output_type": "stream",
          "name": "stdout",
          "text": [
            "Suklav\n",
            "25\n"
          ]
        }
      ]
    },
    {
      "cell_type": "code",
      "source": [
        "# Adding elements\n",
        "my_dict['course'] = 'Data Science'\n",
        "print(my_dict)"
      ],
      "metadata": {
        "colab": {
          "base_uri": "https://localhost:8080/"
        },
        "id": "mVBB2pnJ0OQ5",
        "outputId": "d0a9d4d3-2b45-4775-b691-cacab16b061b"
      },
      "execution_count": null,
      "outputs": [
        {
          "output_type": "stream",
          "name": "stdout",
          "text": [
            "{'name': 'Suklav', 'age': 25, 'city': 'Kolkata', 'course': 'Data Science'}\n"
          ]
        }
      ]
    },
    {
      "cell_type": "code",
      "source": [
        "# Modifying elements\n",
        "my_dict['age'] = 24\n",
        "print(my_dict)"
      ],
      "metadata": {
        "colab": {
          "base_uri": "https://localhost:8080/"
        },
        "id": "5iaGXHj30T2w",
        "outputId": "c40777c1-c29a-4361-c01c-30344b558b42"
      },
      "execution_count": null,
      "outputs": [
        {
          "output_type": "stream",
          "name": "stdout",
          "text": [
            "{'name': 'Suklav', 'age': 24, 'city': 'Kolkata', 'course': 'Data Science'}\n"
          ]
        }
      ]
    },
    {
      "cell_type": "code",
      "source": [
        "# Removing elements\n",
        "my_dict.pop('city')  # Removes and returns the value associated with the key 'city'\n",
        "print(my_dict)\n",
        "del my_dict['age'] # Removes the key 'age' and its value\n",
        "print(my_dict)\n",
        "my_dict.clear() # Removes all key-value pairs\n",
        "print(my_dict)"
      ],
      "metadata": {
        "colab": {
          "base_uri": "https://localhost:8080/"
        },
        "id": "TK2X1mA90fBf",
        "outputId": "dbe1a03e-ccec-4444-ada5-bc6221360538"
      },
      "execution_count": null,
      "outputs": [
        {
          "output_type": "stream",
          "name": "stdout",
          "text": [
            "{'name': 'Suklav', 'age': 24, 'course': 'Data Science'}\n",
            "{'name': 'Suklav', 'course': 'Data Science'}\n",
            "{}\n"
          ]
        }
      ]
    },
    {
      "cell_type": "code",
      "source": [
        "# Dictionary methods\n",
        "my_dict = {'name':'Suklav', 'age':24, 'city':'Kolkata'}\n",
        "print(my_dict.keys())\n",
        "print(my_dict.values())\n",
        "print(my_dict.items())"
      ],
      "metadata": {
        "colab": {
          "base_uri": "https://localhost:8080/"
        },
        "id": "vzCGo4Eg0uKC",
        "outputId": "c9cd316b-ca5c-4cd4-9f9d-5e1f0455f7b0"
      },
      "execution_count": null,
      "outputs": [
        {
          "output_type": "stream",
          "name": "stdout",
          "text": [
            "dict_keys(['name', 'age', 'city'])\n",
            "dict_values(['Suklav', 24, 'Kolkata'])\n",
            "dict_items([('name', 'Suklav'), ('age', 24), ('city', 'Kolkata')])\n"
          ]
        }
      ]
    },
    {
      "cell_type": "code",
      "source": [
        "# Check key in dictionary\n",
        "if 'name' in my_dict:\n",
        "  print('yes')\n",
        "else:\n",
        "  print('no')\n",
        "\n",
        "# Iterating over a dictionary\n",
        "for key in my_dict:\n",
        "  print(key, my_dict[key])\n",
        "\n",
        "for key, value in my_dict.items():\n",
        "  print(key, value)\n",
        "\n",
        "#Copying a dictionary\n",
        "new_dict = my_dict.copy()\n",
        "\n",
        "# Updating a dictionary\n",
        "new_dict.update({'country':'India'})\n",
        "print(new_dict)\n",
        "\n",
        "# Nested dictionaries\n",
        "student = {\n",
        "    'name': 'Alice',\n",
        "    'age': 20,\n",
        "    'grades': {'math': 90, 'science': 85, 'english': 95}\n",
        "}\n",
        "\n",
        "print(student['grades']['math'])"
      ],
      "metadata": {
        "id": "S5TfpX8j0mxh",
        "colab": {
          "base_uri": "https://localhost:8080/"
        },
        "outputId": "4c37a24c-a1b3-479b-96c2-10da9604709a"
      },
      "execution_count": null,
      "outputs": [
        {
          "output_type": "stream",
          "name": "stdout",
          "text": [
            "yes\n",
            "name Suklav\n",
            "age 24\n",
            "city Kolkata\n",
            "name Suklav\n",
            "age 24\n",
            "city Kolkata\n",
            "{'name': 'Suklav', 'age': 24, 'city': 'Kolkata', 'country': 'India'}\n",
            "90\n"
          ]
        }
      ]
    },
    {
      "cell_type": "markdown",
      "source": [
        "**Topic 2:** Statement"
      ],
      "metadata": {
        "id": "gQJNMyWS5QgJ"
      }
    },
    {
      "cell_type": "code",
      "source": [
        "# if statements\n",
        "temperature = 30\n",
        "\n",
        "if temperature > 30: #indentation is importent\n",
        "    print(\"It's a hot day\")\n",
        "else:\n",
        "    print(\"It's not a hot day\")"
      ],
      "metadata": {
        "colab": {
          "base_uri": "https://localhost:8080/"
        },
        "id": "MnKsYXqr1Z6p",
        "outputId": "436e8565-8082-49ce-d1a1-5e9c1911ef09"
      },
      "execution_count": null,
      "outputs": [
        {
          "output_type": "stream",
          "name": "stdout",
          "text": [
            "It's not a hot day\n"
          ]
        }
      ]
    },
    {
      "cell_type": "code",
      "source": [
        "temperature = 22\n",
        "if temperature > 30: #indentation is importent\n",
        "    print(\"It's a hot day\")\n",
        "elif temperature > 20:\n",
        "    print(\"It's a nice day\")\n",
        "else:\n",
        "    print(\"It's not a hot day\")"
      ],
      "metadata": {
        "colab": {
          "base_uri": "https://localhost:8080/"
        },
        "id": "NiSKJiEB8KE7",
        "outputId": "aa1660d1-0081-4333-85a9-89aab8d4c6fb"
      },
      "execution_count": null,
      "outputs": [
        {
          "output_type": "stream",
          "name": "stdout",
          "text": [
            "It's a nice day\n"
          ]
        }
      ]
    },
    {
      "cell_type": "markdown",
      "source": [
        "**Topic 3:** Loop"
      ],
      "metadata": {
        "id": "ygP5u64T8irZ"
      }
    },
    {
      "cell_type": "markdown",
      "source": [
        "**While** **Loop**"
      ],
      "metadata": {
        "id": "Z9vsh_lTsBLq"
      }
    },
    {
      "cell_type": "code",
      "source": [
        "# While Loop\n",
        "i =1\n",
        "while i <= 5:\n",
        "    print(i)\n",
        "    i = i + 1\n",
        "print(\"Done\")"
      ],
      "metadata": {
        "colab": {
          "base_uri": "https://localhost:8080/"
        },
        "id": "TRj_FZ3i8h73",
        "outputId": "f0f240e3-7828-462e-b2f8-e9cca3f35684"
      },
      "execution_count": null,
      "outputs": [
        {
          "output_type": "stream",
          "name": "stdout",
          "text": [
            "1\n",
            "2\n",
            "3\n",
            "4\n",
            "5\n",
            "Done\n"
          ]
        }
      ]
    },
    {
      "cell_type": "code",
      "source": [
        "i =1\n",
        "while i <= 5:\n",
        "    print(i*'*')\n",
        "    i = i + 1\n",
        "print(\"Done\")"
      ],
      "metadata": {
        "colab": {
          "base_uri": "https://localhost:8080/"
        },
        "id": "ZPw4z3jlojSl",
        "outputId": "b788c1ea-a46e-407a-e11c-8c89126d127a"
      },
      "execution_count": null,
      "outputs": [
        {
          "output_type": "stream",
          "name": "stdout",
          "text": [
            "*\n",
            "**\n",
            "***\n",
            "****\n",
            "*****\n",
            "Done\n"
          ]
        }
      ]
    },
    {
      "cell_type": "code",
      "source": [
        "i =0\n",
        "while i < len(course):\n",
        "    print(course[i])\n",
        "    i = i + 1\n",
        "print(\"Done\")"
      ],
      "metadata": {
        "colab": {
          "base_uri": "https://localhost:8080/"
        },
        "id": "hkmYZ2hm8V1S",
        "outputId": "319c75b0-d272-42b4-aecf-a5904da489ef"
      },
      "execution_count": null,
      "outputs": [
        {
          "output_type": "stream",
          "name": "stdout",
          "text": [
            "S\n",
            "u\n",
            "m\n",
            "m\n",
            "e\n",
            "r\n",
            " \n",
            "S\n",
            "c\n",
            "h\n",
            "o\n",
            "o\n",
            "l\n",
            " \n",
            "2\n",
            "0\n",
            "2\n",
            "5\n",
            "Done\n"
          ]
        }
      ]
    },
    {
      "cell_type": "markdown",
      "source": [
        "**For Loop**"
      ],
      "metadata": {
        "id": "8tCBMQ7Qr45v"
      }
    },
    {
      "cell_type": "code",
      "source": [
        "# for loop\n",
        "numbers = [1,2,3,4,5]\n",
        "for item in numbers:\n",
        "    print(item)"
      ],
      "metadata": {
        "colab": {
          "base_uri": "https://localhost:8080/"
        },
        "id": "pNf1wMdgr_Sh",
        "outputId": "479504e5-b072-4814-8fd5-aed9b0192ee2"
      },
      "execution_count": null,
      "outputs": [
        {
          "output_type": "stream",
          "name": "stdout",
          "text": [
            "1\n",
            "2\n",
            "3\n",
            "4\n",
            "5\n"
          ]
        }
      ]
    },
    {
      "cell_type": "code",
      "source": [
        "# for loop\n",
        "numbers = range(15) #range(1, 15)\n",
        "for item in numbers:\n",
        "    print(item)"
      ],
      "metadata": {
        "colab": {
          "base_uri": "https://localhost:8080/"
        },
        "id": "dWEZPBQmskb2",
        "outputId": "b0ab1dd1-0ef6-492e-cc96-6e40a87c3dcc"
      },
      "execution_count": null,
      "outputs": [
        {
          "output_type": "stream",
          "name": "stdout",
          "text": [
            "0\n",
            "1\n",
            "2\n",
            "3\n",
            "4\n",
            "5\n",
            "6\n",
            "7\n",
            "8\n",
            "9\n",
            "10\n",
            "11\n",
            "12\n",
            "13\n",
            "14\n"
          ]
        }
      ]
    },
    {
      "cell_type": "markdown",
      "source": [
        "**Topic 3:** Functions (A function is a block of code that performs a specific task. It helps in code reuse and modularity.)"
      ],
      "metadata": {
        "id": "uplU-_yRv7aw"
      }
    },
    {
      "cell_type": "markdown",
      "source": [
        "**User Defined Functions**"
      ],
      "metadata": {
        "id": "JZdbOkGiwLjN"
      }
    },
    {
      "cell_type": "code",
      "source": [
        "# prompt: # user defined function in python\n",
        "\n",
        "def greet(name):\n",
        "  \"\"\"\n",
        "  This function greets the person passed in as a parameter.\n",
        "  \"\"\"\n",
        "  print(f\"Hello, {name}!\")\n",
        "\n",
        "greet(\"World\") # call the function"
      ],
      "metadata": {
        "colab": {
          "base_uri": "https://localhost:8080/"
        },
        "id": "MQY2_3BKszi9",
        "outputId": "c750c5f3-1845-4236-95b5-18894e4a35cf"
      },
      "execution_count": null,
      "outputs": [
        {
          "output_type": "stream",
          "name": "stdout",
          "text": [
            "Hello, World!\n"
          ]
        }
      ]
    },
    {
      "cell_type": "code",
      "source": [
        "greet(\"Again\")"
      ],
      "metadata": {
        "colab": {
          "base_uri": "https://localhost:8080/"
        },
        "id": "x_2zm0hfyD5P",
        "outputId": "eaafc5ab-d39a-42b7-f219-846690301fe8"
      },
      "execution_count": null,
      "outputs": [
        {
          "output_type": "stream",
          "name": "stdout",
          "text": [
            "Hello, Again!\n"
          ]
        }
      ]
    },
    {
      "cell_type": "markdown",
      "source": [
        "**Built-in Functions**"
      ],
      "metadata": {
        "id": "FNJIx35eyuk_"
      }
    },
    {
      "cell_type": "code",
      "source": [
        "# Built-in Functions\n",
        "\n",
        "# Type conversion functions\n",
        "int(\"10\")  # Converts a string to an integer\n",
        "float(10)   # Converts an integer to a float\n",
        "str(10.5)   # Converts a float to a string\n",
        "bool(1)    # Converts a number to a boolean (True for non-zero)\n",
        "bool(0)    # Converts a number to a boolean (False for zero)\n",
        "list((1,2,3)) # Converts a tuple to a list\n",
        "tuple([1,2,3]) # Converts a list to a tuple\n",
        "set([1,1,2,3]) # Creates a set from a list (removes duplicates)\n",
        "\n",
        "# Math functions\n",
        "abs(-5)      # Returns the absolute value of a number\n",
        "round(3.14159, 2) # Rounds a number to a specified number of decimal places\n",
        "pow(2, 3)    # Raises a number to a power (2**3)\n",
        "min(1, 2, 3) # Returns the minimum of a sequence of numbers\n",
        "max(1, 2, 3) # Returns the maximum of a sequence of numbers\n",
        "sum([1,2,3])  # Returns the sum of a sequence of numbers\n",
        "\n",
        "# Input/Output\n",
        "print(\"Hello, world!\") # Prints output to the console\n",
        "input(\"Enter your name: \") # Gets input from the user\n",
        "\n",
        "# Other useful built-in functions\n",
        "len(\"hello\")  # Returns the length of a string or list\n",
        "type(10)       # Returns the data type of an object\n",
        "range(5)      # Generates a sequence of numbers (0 to 4)\n",
        "sorted([3,1,2]) # Returns a sorted list\n",
        "\n"
      ],
      "metadata": {
        "colab": {
          "base_uri": "https://localhost:8080/"
        },
        "id": "v8qKSoOXyMrH",
        "outputId": "ba20a04b-a3cc-4fa7-ef4f-4c4af46456d7"
      },
      "execution_count": null,
      "outputs": [
        {
          "name": "stdout",
          "output_type": "stream",
          "text": [
            "Hello, world!\n",
            "Enter your name: Suklav\n"
          ]
        },
        {
          "output_type": "execute_result",
          "data": {
            "text/plain": [
              "<zip at 0x78bd46dbdf40>"
            ]
          },
          "metadata": {},
          "execution_count": 95
        }
      ]
    },
    {
      "cell_type": "markdown",
      "source": [
        "**Topic 4:** Class in Python"
      ],
      "metadata": {
        "id": "9Tta-RDxaVgD"
      }
    },
    {
      "cell_type": "code",
      "source": [
        "# Define a class named 'Dog'\n",
        "class Dog:\n",
        "    # Class variable (shared among all instances of the class)\n",
        "    species = \"Canis familiaris\"\n",
        "\n",
        "    # Constructor (initializer method)\n",
        "    def __init__(self, name, age):\n",
        "        # Instance variables (unique to each instance of the class)\n",
        "        self.name = name\n",
        "        self.age = age\n",
        "\n",
        "    # Instance method\n",
        "    def description(self):\n",
        "        return f\"{self.name} is {self.age} years old\"\n",
        "\n",
        "    # Another instance method\n",
        "    def speak(self, sound):\n",
        "        return f\"{self.name} says {sound}\""
      ],
      "metadata": {
        "id": "gpFNY1jOaasU"
      },
      "execution_count": null,
      "outputs": []
    },
    {
      "cell_type": "code",
      "source": [
        "# Create instances (objects) of the 'Dog' class\n",
        "philo = Dog(\"Philo\", 5)\n",
        "mikey = Dog(\"Mikey\", 6)"
      ],
      "metadata": {
        "id": "NnlCZYd1a7kR"
      },
      "execution_count": null,
      "outputs": []
    },
    {
      "cell_type": "code",
      "source": [
        "# Access instance variables\n",
        "print(philo.name)  # Output: Philo\n",
        "print(mikey.age)   # Output: 6"
      ],
      "metadata": {
        "colab": {
          "base_uri": "https://localhost:8080/"
        },
        "id": "MScG6qj7a_IZ",
        "outputId": "cbb3aad6-4a2a-4c35-f784-0c182ef88f7b"
      },
      "execution_count": null,
      "outputs": [
        {
          "output_type": "stream",
          "name": "stdout",
          "text": [
            "Philo\n",
            "6\n"
          ]
        }
      ]
    },
    {
      "cell_type": "code",
      "source": [
        "# Access class variable\n",
        "print(philo.species)  # Output: Canis familiaris\n",
        "print(mikey.species) # Output: Canis familiaris"
      ],
      "metadata": {
        "colab": {
          "base_uri": "https://localhost:8080/"
        },
        "id": "FmygdJYqbECT",
        "outputId": "ebd1dfe7-49b3-4234-eb4a-f1c9caa1b925"
      },
      "execution_count": null,
      "outputs": [
        {
          "output_type": "stream",
          "name": "stdout",
          "text": [
            "Canis familiaris\n",
            "Canis familiaris\n"
          ]
        }
      ]
    },
    {
      "cell_type": "code",
      "source": [
        "# Call instance methods\n",
        "print(philo.description())  # Output: Philo is 5 years old\n",
        "print(mikey.speak(\"Gruff Gruff\")) # Output: Mikey says Gruff Gruff"
      ],
      "metadata": {
        "colab": {
          "base_uri": "https://localhost:8080/"
        },
        "id": "VJRguQJcbGvo",
        "outputId": "13701903-bf20-4e27-899f-7da003587011"
      },
      "execution_count": null,
      "outputs": [
        {
          "output_type": "stream",
          "name": "stdout",
          "text": [
            "Philo is 5 years old\n",
            "Mikey says Gruff Gruff\n"
          ]
        }
      ]
    },
    {
      "cell_type": "code",
      "source": [
        "# Example demonstrating inheritance\n",
        "class RussellTerrier(Dog):\n",
        "    def run(self, speed):\n",
        "        return f\"{self.name} runs {speed}\"\n",
        "\n",
        "class Bulldog(Dog):\n",
        "    def run(self, speed):\n",
        "        return f\"{self.name} runs {speed}\"\n",
        "\n",
        "jim = RussellTerrier(\"Jim\", 12)\n",
        "print(jim.description()) # Output: Jim is 12 years old\n",
        "print(jim.run(\"slowly\")) # Output: Jim runs slowly\n",
        "\n",
        "# Example demonstrating polymorphism\n",
        "dogs = [philo, mikey, jim]\n",
        "for dog in dogs:\n",
        "    print(dog.description()) # Calls the description method specific to each dog object"
      ],
      "metadata": {
        "colab": {
          "base_uri": "https://localhost:8080/"
        },
        "id": "wGrp4z8UbJeB",
        "outputId": "8f1914c5-d50b-4bf9-ff00-7bd7ef36d2b4"
      },
      "execution_count": null,
      "outputs": [
        {
          "output_type": "stream",
          "name": "stdout",
          "text": [
            "Jim is 12 years old\n",
            "Jim runs slowly\n",
            "Philo is 5 years old\n",
            "Mikey is 6 years old\n",
            "Jim is 12 years old\n"
          ]
        }
      ]
    },
    {
      "cell_type": "markdown",
      "source": [
        "**Topic 5:** Libraries in Python"
      ],
      "metadata": {
        "id": "5p16A9jLy5BB"
      }
    },
    {
      "cell_type": "code",
      "source": [
        "# prompt: important libraries in python\n",
        "\n",
        "import pandas as pd\n",
        "import numpy as np\n",
        "import matplotlib.pyplot as plt\n",
        "import seaborn as sns\n",
        "import re\n",
        "import os\n",
        "import sys\n",
        "import math\n",
        "import random\n",
        "import datetime\n",
        "import time\n",
        "import json\n",
        "import requests\n",
        "import urllib\n",
        "from collections import Counter\n",
        "from itertools import combinations\n",
        "from sklearn.model_selection import train_test_split\n",
        "from sklearn.linear_model import LinearRegression\n",
        "from sklearn.metrics import mean_squared_error\n",
        "\n",
        "# Add more libraries as needed"
      ],
      "metadata": {
        "id": "v32c9X7XzCnn"
      },
      "execution_count": null,
      "outputs": []
    },
    {
      "cell_type": "markdown",
      "source": [
        "**Numpy Library**"
      ],
      "metadata": {
        "id": "vCsU6JZCzWTV"
      }
    },
    {
      "cell_type": "code",
      "source": [
        "# NumPy (Numerical Python) is a fundamental library for numerical computation in Python.\n",
        "# It provides support for large, multi-dimensional arrays and matrices, along with a collection of high-level mathematical functions to operate on these arrays.\n",
        "import numpy as np\n",
        "\n",
        "# Creating NumPy arrays\n",
        "my_array = np.array([1, 2, 3, 4, 5])  # Create a 1D array\n",
        "print(my_array)\n",
        "print(type(my_array))"
      ],
      "metadata": {
        "colab": {
          "base_uri": "https://localhost:8080/"
        },
        "id": "yEOEufi6zZr5",
        "outputId": "c19fd350-8990-4f7b-eff1-33b0786bcac3"
      },
      "execution_count": null,
      "outputs": [
        {
          "output_type": "stream",
          "name": "stdout",
          "text": [
            "[1 2 3 4 5]\n",
            "<class 'numpy.ndarray'>\n"
          ]
        }
      ]
    },
    {
      "cell_type": "code",
      "source": [
        "# Array attributes\n",
        "print(my_array.shape)      # Shape of the array (number of elements in each dimension)\n",
        "print(my_array.ndim)       # Number of dimensions\n",
        "print(my_array.dtype)      # Data type of elements\n",
        "print(my_array.size)       # Total number of elements"
      ],
      "metadata": {
        "colab": {
          "base_uri": "https://localhost:8080/"
        },
        "id": "KPUKIOdGI2mX",
        "outputId": "d5bd3e57-693c-463e-b398-47302bd0e002"
      },
      "execution_count": null,
      "outputs": [
        {
          "output_type": "stream",
          "name": "stdout",
          "text": [
            "(5,)\n",
            "1\n",
            "int64\n",
            "5\n"
          ]
        }
      ]
    },
    {
      "cell_type": "code",
      "source": [
        "# Array indexing and slicing\n",
        "print(my_array[0])   # Access the first element\n",
        "print(my_array[1:4]) # Access elements from index 1 to 3\n"
      ],
      "metadata": {
        "colab": {
          "base_uri": "https://localhost:8080/"
        },
        "id": "o83cin56JXwR",
        "outputId": "69bf1491-483d-4ca5-c9b7-152d074b0821"
      },
      "execution_count": null,
      "outputs": [
        {
          "output_type": "stream",
          "name": "stdout",
          "text": [
            "1\n",
            "[2 3 4]\n"
          ]
        }
      ]
    },
    {
      "cell_type": "code",
      "source": [
        "# Reshaping arrays\n",
        "reshaped_array = my_array.reshape(5,1)  # Reshape to a 5x1 matrix\n",
        "print(reshaped_array.shape)\n",
        "print(reshaped_array)"
      ],
      "metadata": {
        "colab": {
          "base_uri": "https://localhost:8080/"
        },
        "id": "Oln6jbDHJh7Q",
        "outputId": "430c6708-b0eb-456f-ac7c-445d2289c1ad"
      },
      "execution_count": null,
      "outputs": [
        {
          "output_type": "stream",
          "name": "stdout",
          "text": [
            "(5, 1)\n",
            "[[1]\n",
            " [2]\n",
            " [3]\n",
            " [4]\n",
            " [5]]\n"
          ]
        }
      ]
    },
    {
      "cell_type": "code",
      "source": [
        "my_2d_array = np.array([[1, 2, 3], [4, 5, 6]])  # Create a 2D array (matrix)\n",
        "print(my_2d_array)"
      ],
      "metadata": {
        "colab": {
          "base_uri": "https://localhost:8080/"
        },
        "id": "MERj026pINko",
        "outputId": "949ab067-862f-4183-b212-e5ac7e5894ae"
      },
      "execution_count": null,
      "outputs": [
        {
          "output_type": "stream",
          "name": "stdout",
          "text": [
            "[[1 2 3]\n",
            " [4 5 6]]\n"
          ]
        }
      ]
    },
    {
      "cell_type": "code",
      "source": [
        "print(my_2d_array.shape)      # Shape of the array (number of elements in each dimension)\n",
        "print(my_2d_array.ndim)       # Number of dimensions\n",
        "print(my_2d_array.dtype)      # Data type of elements\n",
        "print(my_2d_array.size)       # Total number of elements"
      ],
      "metadata": {
        "colab": {
          "base_uri": "https://localhost:8080/"
        },
        "id": "bsILOVNgJIEJ",
        "outputId": "2e1766d7-dd11-477a-a285-c5bde2ac6ea1"
      },
      "execution_count": null,
      "outputs": [
        {
          "output_type": "stream",
          "name": "stdout",
          "text": [
            "(2, 3)\n",
            "2\n",
            "int64\n",
            "6\n"
          ]
        }
      ]
    },
    {
      "cell_type": "code",
      "source": [
        "# Array operations (element-wise)\n",
        "a = np.array([1, 2, 3])\n",
        "b = np.array([4, 5, 6])\n",
        "\n",
        "print(a + b)    # Addition\n",
        "print(a - b)    # Subtraction\n",
        "print(a * b)    # Multiplication\n",
        "print(a / b)    # Division"
      ],
      "metadata": {
        "colab": {
          "base_uri": "https://localhost:8080/"
        },
        "id": "rqnN0U9PJBz-",
        "outputId": "322697d7-7273-43c2-b227-cfa471e8db35"
      },
      "execution_count": null,
      "outputs": [
        {
          "output_type": "stream",
          "name": "stdout",
          "text": [
            "[5 7 9]\n",
            "[-3 -3 -3]\n",
            "[ 4 10 18]\n",
            "[0.25 0.4  0.5 ]\n"
          ]
        }
      ]
    },
    {
      "cell_type": "code",
      "source": [
        "# Array functions\n",
        "print(np.sum(a))        # Sum of elements\n",
        "print(np.mean(a))       # Mean of elements\n",
        "print(np.std(a))        # Standard deviation\n",
        "print(np.max(a))        # Maximum element\n",
        "print(np.min(a))        # Minimum element"
      ],
      "metadata": {
        "colab": {
          "base_uri": "https://localhost:8080/"
        },
        "id": "UcWjluK6JbXm",
        "outputId": "780604b8-cf81-4d48-dfb2-1ed453fd9fd7"
      },
      "execution_count": null,
      "outputs": [
        {
          "output_type": "stream",
          "name": "stdout",
          "text": [
            "6\n",
            "2.0\n",
            "0.816496580927726\n",
            "3\n",
            "1\n"
          ]
        }
      ]
    },
    {
      "cell_type": "code",
      "source": [
        "#Other common functions\n",
        "print(np.zeros((3,3))) #creates an array of zeros with the provided shape."
      ],
      "metadata": {
        "colab": {
          "base_uri": "https://localhost:8080/"
        },
        "id": "zjd02sBEJklc",
        "outputId": "01751b85-9095-4615-9a3b-c8f414b0d81f"
      },
      "execution_count": null,
      "outputs": [
        {
          "output_type": "stream",
          "name": "stdout",
          "text": [
            "[[0. 0. 0.]\n",
            " [0. 0. 0.]\n",
            " [0. 0. 0.]]\n"
          ]
        }
      ]
    },
    {
      "cell_type": "code",
      "source": [
        "print(np.ones((2,2))) #creates an array of ones with the provided shape."
      ],
      "metadata": {
        "colab": {
          "base_uri": "https://localhost:8080/"
        },
        "id": "Wtwc7BJIKBRF",
        "outputId": "85ad25e6-e334-4d6f-d09a-84bb6c170779"
      },
      "execution_count": null,
      "outputs": [
        {
          "output_type": "stream",
          "name": "stdout",
          "text": [
            "[[1. 1.]\n",
            " [1. 1.]]\n"
          ]
        }
      ]
    },
    {
      "cell_type": "code",
      "source": [
        "print(np.arange(10)) # Creates a 1-D array with elements from 0 to 9."
      ],
      "metadata": {
        "colab": {
          "base_uri": "https://localhost:8080/"
        },
        "id": "9SxPuiR8KD4S",
        "outputId": "fb7f5f7f-c9ff-4aa7-a577-fabefa48befc"
      },
      "execution_count": null,
      "outputs": [
        {
          "output_type": "stream",
          "name": "stdout",
          "text": [
            "[0 1 2 3 4 5 6 7 8 9]\n"
          ]
        }
      ]
    },
    {
      "cell_type": "code",
      "source": [
        "print(np.linspace(0, 1, 5)) # Creates a 1-D array of evenly spaced numbers over a specified interval."
      ],
      "metadata": {
        "colab": {
          "base_uri": "https://localhost:8080/"
        },
        "id": "8qf9-Z7hKGt4",
        "outputId": "be8dcaf1-e91e-48f5-98c7-9a6d862fc640"
      },
      "execution_count": null,
      "outputs": [
        {
          "output_type": "stream",
          "name": "stdout",
          "text": [
            "[0.   0.25 0.5  0.75 1.  ]\n"
          ]
        }
      ]
    },
    {
      "cell_type": "code",
      "source": [
        "print(np.random.rand(3, 2))  # Generates an array of random numbers from a uniform distribution."
      ],
      "metadata": {
        "colab": {
          "base_uri": "https://localhost:8080/"
        },
        "id": "6d2qLZgMKKFQ",
        "outputId": "ed3abc2a-c5f2-4760-89b6-494366f71b79"
      },
      "execution_count": null,
      "outputs": [
        {
          "output_type": "stream",
          "name": "stdout",
          "text": [
            "[[0.61942727 0.11166092]\n",
            " [0.64289966 0.57851966]\n",
            " [0.79900868 0.41131512]]\n"
          ]
        }
      ]
    },
    {
      "cell_type": "code",
      "source": [
        "print(np.random.randn(2, 3)) # Generates an array of random numbers from a standard normal distribution."
      ],
      "metadata": {
        "colab": {
          "base_uri": "https://localhost:8080/"
        },
        "id": "2XEWOGAPKMuq",
        "outputId": "5ecac5ae-7aa3-4829-fb57-b95cdcfcdfec"
      },
      "execution_count": null,
      "outputs": [
        {
          "output_type": "stream",
          "name": "stdout",
          "text": [
            "[[ 0.24130583  0.35987569  0.96297754]\n",
            " [-0.59432481 -0.18861288 -1.23565058]]\n"
          ]
        }
      ]
    },
    {
      "cell_type": "markdown",
      "source": [
        "**Panda Library**"
      ],
      "metadata": {
        "id": "w_Mpi6znKU-d"
      }
    },
    {
      "cell_type": "code",
      "source": [
        "# prompt: handle a csv file in panda\n",
        "\n",
        "import pandas as pd\n",
        "\n",
        "# Assuming your CSV file is named 'IRIS.csv' and is in the current working directory.\n",
        "# Replace 'your_file.csv' with the actual file name if it's different.\n",
        "try:\n",
        "    df_IRIS = pd.read_csv('/content/drive/MyDrive/LAVA 2025/Hands-on/IRIS.csv')\n",
        "    # Now you can work with the DataFrame 'df'.\n",
        "    print(df_IRIS.head()) # Print the first 5 rows of the DataFrame\n",
        "    # Example: Accessing the 'Operator' column\n",
        "    #operators = df['Operator']\n",
        "    #print(operators)\n",
        "\n",
        "except FileNotFoundError:\n",
        "    print(\"Error: 'IRIS.csv' not found in the current directory.\")\n",
        "except pd.errors.ParserError:\n",
        "    print(\"Error: Could not parse the CSV file. Please check the file format.\")\n",
        "except Exception as e:\n",
        "    print(f\"An unexpected error occurred: {e}\")"
      ],
      "metadata": {
        "colab": {
          "base_uri": "https://localhost:8080/"
        },
        "id": "JpVPZsKvNN9p",
        "outputId": "a6136312-c867-4ca9-b03c-2dd1f269f194"
      },
      "execution_count": null,
      "outputs": [
        {
          "output_type": "stream",
          "name": "stdout",
          "text": [
            "   sepal_length  sepal_width  petal_length  petal_width      species\n",
            "0           5.1          3.5           1.4          0.2  Iris-setosa\n",
            "1           4.9          3.0           1.4          0.2  Iris-setosa\n",
            "2           4.7          3.2           1.3          0.2  Iris-setosa\n",
            "3           4.6          3.1           1.5          0.2  Iris-setosa\n",
            "4           5.0          3.6           1.4          0.2  Iris-setosa\n"
          ]
        }
      ]
    },
    {
      "cell_type": "code",
      "source": [
        "# Create a sample DataFrame (replace with your actual data)\n",
        "data = {'col1': [1, 2, 3], 'col2': [4, 5, 6]}\n",
        "df = pd.DataFrame(data)\n",
        "\n",
        "df.to_csv('output.csv', index=False)\n",
        "# Display the DataFrame\n",
        "print(df)\n"
      ],
      "metadata": {
        "colab": {
          "base_uri": "https://localhost:8080/"
        },
        "id": "ZBCSUN1sKXqF",
        "outputId": "80563f07-e5d2-4520-dc23-c467498926f2"
      },
      "execution_count": null,
      "outputs": [
        {
          "output_type": "stream",
          "name": "stdout",
          "text": [
            "   col1  col2\n",
            "0     1     4\n",
            "1     2     5\n",
            "2     3     6\n"
          ]
        }
      ]
    },
    {
      "cell_type": "code",
      "source": [
        "# Accessing columns and rows\n",
        "print(df['col1']) # Accessing a column\n",
        "print(df.iloc[0])  # Accessing the first row"
      ],
      "metadata": {
        "colab": {
          "base_uri": "https://localhost:8080/"
        },
        "id": "lEi-wqiLMBpK",
        "outputId": "3dde6a95-11fd-4d56-c67f-9b0c1216fb82"
      },
      "execution_count": null,
      "outputs": [
        {
          "output_type": "stream",
          "name": "stdout",
          "text": [
            "0    1\n",
            "1    2\n",
            "2    3\n",
            "Name: col1, dtype: int64\n",
            "col1    1\n",
            "col2    4\n",
            "Name: 0, dtype: int64\n"
          ]
        }
      ]
    },
    {
      "cell_type": "code",
      "source": [
        "# Basic data exploration\n",
        "print(df.describe()) # Summary statistics"
      ],
      "metadata": {
        "colab": {
          "base_uri": "https://localhost:8080/"
        },
        "id": "zGOARGqiMI1r",
        "outputId": "4f3c04e6-dbe6-4b4c-b9ae-32c73ccbac92"
      },
      "execution_count": null,
      "outputs": [
        {
          "output_type": "stream",
          "name": "stdout",
          "text": [
            "       col1  col2\n",
            "count   3.0   3.0\n",
            "mean    2.0   5.0\n",
            "std     1.0   1.0\n",
            "min     1.0   4.0\n",
            "25%     1.5   4.5\n",
            "50%     2.0   5.0\n",
            "75%     2.5   5.5\n",
            "max     3.0   6.0\n"
          ]
        }
      ]
    },
    {
      "cell_type": "code",
      "source": [
        "print(df.info())  # Data types and non-null counts"
      ],
      "metadata": {
        "colab": {
          "base_uri": "https://localhost:8080/"
        },
        "id": "3cckq_PRMcDm",
        "outputId": "97720707-db1c-4a06-a8fa-1af03c190190"
      },
      "execution_count": null,
      "outputs": [
        {
          "output_type": "stream",
          "name": "stdout",
          "text": [
            "<class 'pandas.core.frame.DataFrame'>\n",
            "RangeIndex: 3 entries, 0 to 2\n",
            "Data columns (total 2 columns):\n",
            " #   Column  Non-Null Count  Dtype\n",
            "---  ------  --------------  -----\n",
            " 0   col1    3 non-null      int64\n",
            " 1   col2    3 non-null      int64\n",
            "dtypes: int64(2)\n",
            "memory usage: 180.0 bytes\n",
            "None\n"
          ]
        }
      ]
    },
    {
      "cell_type": "code",
      "source": [
        "# Data manipulation\n",
        "df['col3'] = df['col1'] + df['col2']  # Creating a new column\n",
        "print(df)"
      ],
      "metadata": {
        "colab": {
          "base_uri": "https://localhost:8080/"
        },
        "id": "SNO4I6TXMJ1n",
        "outputId": "9305558d-bc2b-48bc-8d3a-e52982efe5bc"
      },
      "execution_count": null,
      "outputs": [
        {
          "output_type": "stream",
          "name": "stdout",
          "text": [
            "   col1  col2  col3\n",
            "0     1     4     5\n",
            "1     2     5     7\n",
            "2     3     6     9\n"
          ]
        }
      ]
    },
    {
      "cell_type": "code",
      "source": [
        "df.drop('col3', axis=1, inplace=True) # Removing a column\n",
        "print(df)"
      ],
      "metadata": {
        "colab": {
          "base_uri": "https://localhost:8080/"
        },
        "id": "xKQWPvv4Mqfb",
        "outputId": "7b914e78-4766-48e8-d7bc-d582ac54751f"
      },
      "execution_count": null,
      "outputs": [
        {
          "output_type": "stream",
          "name": "stdout",
          "text": [
            "   col1  col2\n",
            "0     1     4\n",
            "1     2     5\n",
            "2     3     6\n"
          ]
        }
      ]
    },
    {
      "cell_type": "code",
      "source": [
        "# Handling missing values\n",
        "# df.dropna() # Remove rows with missing values\n",
        "# df.fillna(0) # Fill missing values with 0"
      ],
      "metadata": {
        "id": "878lwRR_Mw18"
      },
      "execution_count": null,
      "outputs": []
    },
    {
      "cell_type": "code",
      "source": [
        "# Filtering data\n",
        "filtered_df = df[df['col1'] > 1]\n",
        "print(filtered_df)"
      ],
      "metadata": {
        "colab": {
          "base_uri": "https://localhost:8080/"
        },
        "id": "4-AO1Pc-NAJy",
        "outputId": "cea73bc4-3e48-4c16-fad5-43a818d66b36"
      },
      "execution_count": null,
      "outputs": [
        {
          "output_type": "stream",
          "name": "stdout",
          "text": [
            "   col1  col2\n",
            "1     2     5\n",
            "2     3     6\n"
          ]
        }
      ]
    },
    {
      "cell_type": "markdown",
      "source": [
        "**Matplotlib in python**"
      ],
      "metadata": {
        "id": "4zGbhFPyXxG2"
      }
    },
    {
      "cell_type": "code",
      "source": [
        "# prompt: introduction to matplotlib with IRIS csv file\n",
        "\n",
        "import matplotlib.pyplot as plt\n",
        "import pandas as pd\n",
        "\n",
        "# Assuming 'df' is your DataFrame loaded from 'IRIS.csv'\n",
        "# If not, load it first: df = pd.read_csv('/content/drive/My Drive/Colab Notebooks/Day1/IRIS.csv')\n",
        "df = pd.read_csv('/content/drive/MyDrive/LAVA 2025/Hands-on/IRIS.csv')\n",
        "\n",
        "# Basic scatter plot\n",
        "plt.figure(figsize=(8, 6))\n",
        "plt.scatter(df['sepal_length'], df['sepal_width'])\n",
        "plt.xlabel('Sepal Length (cm)')\n",
        "plt.ylabel('Sepal Width (cm)')\n",
        "plt.title('Sepal Length vs. Sepal Width')\n",
        "plt.show()"
      ],
      "metadata": {
        "colab": {
          "base_uri": "https://localhost:8080/",
          "height": 564
        },
        "id": "AwPeis45Wrg5",
        "outputId": "a7de5bc0-8630-45cb-dfa8-7212b560a544"
      },
      "execution_count": null,
      "outputs": [
        {
          "output_type": "display_data",
          "data": {
            "text/plain": [
              "<Figure size 800x600 with 1 Axes>"
            ],
            "image/png": "[encoded data removed]"
          },
          "metadata": {}
        }
      ]
    },
    {
      "cell_type": "code",
      "source": [
        "# Histogram\n",
        "plt.figure(figsize=(8, 6))\n",
        "plt.hist(df['petal_length'], bins=10)  # Adjust the number of bins as needed\n",
        "plt.xlabel('Petal Length (cm)')\n",
        "plt.ylabel('Frequency')\n",
        "plt.title('Distribution of Petal Length')\n",
        "plt.show()"
      ],
      "metadata": {
        "colab": {
          "base_uri": "https://localhost:8080/",
          "height": 564
        },
        "id": "Ujsx4bG2YNzb",
        "outputId": "b4075708-39d2-4192-be53-907c25a27044"
      },
      "execution_count": null,
      "outputs": [
        {
          "output_type": "display_data",
          "data": {
            "text/plain": [
              "<Figure size 800x600 with 1 Axes>"
            ],
            "image/png": "[encoded data removed]"
          },
          "metadata": {}
        }
      ]
    },
    {
      "cell_type": "code",
      "source": [
        "# Box plot\n",
        "plt.figure(figsize=(8, 6))\n",
        "plt.boxplot([df[df['species'] == 'Iris-setosa']['sepal_length'],\n",
        "             df[df['species'] == 'Iris-versicolor']['sepal_length'],\n",
        "             df[df['species'] == 'Iris-virginica']['sepal_length']],\n",
        "            labels=['Setosa', 'Versicolor', 'Virginica'])\n",
        "plt.ylabel('Sepal Length (cm)')\n",
        "plt.title('Sepal Length Distribution by Species')\n",
        "plt.show()"
      ],
      "metadata": {
        "colab": {
          "base_uri": "https://localhost:8080/",
          "height": 600
        },
        "id": "1SVM0J9jYQ6w",
        "outputId": "de580282-1cdc-4e0c-96ae-372e619674b1"
      },
      "execution_count": null,
      "outputs": [
        {
          "output_type": "stream",
          "name": "stderr",
          "text": [
            "/tmp/ipython-input-158-4075847398.py:3: MatplotlibDeprecationWarning: The 'labels' parameter of boxplot() has been renamed 'tick_labels' since Matplotlib 3.9; support for the old name will be dropped in 3.11.\n",
            "  plt.boxplot([df[df['species'] == 'Iris-setosa']['sepal_length'],\n"
          ]
        },
        {
          "output_type": "display_data",
          "data": {
            "text/plain": [
              "<Figure size 800x600 with 1 Axes>"
            ],
            "image/png": "[encoded data removed]"
          },
          "metadata": {}
        }
      ]
    },
    {
      "cell_type": "code",
      "source": [
        "# Plotting multiple features\n",
        "#plt.figure(figsize=(10, 6))"
      ],
      "metadata": {
        "colab": {
          "base_uri": "https://localhost:8080/",
          "height": 52
        },
        "id": "09-eZZwZYTaY",
        "outputId": "32b2db6a-d719-400a-d758-96dc9116edd2"
      },
      "execution_count": null,
      "outputs": [
        {
          "output_type": "execute_result",
          "data": {
            "text/plain": [
              "<Figure size 1000x600 with 0 Axes>"
            ]
          },
          "metadata": {},
          "execution_count": 124
        },
        {
          "output_type": "display_data",
          "data": {
            "text/plain": [
              "<Figure size 1000x600 with 0 Axes>"
            ]
          },
          "metadata": {}
        }
      ]
    },
    {
      "cell_type": "code",
      "source": [
        "# Use different markers for each species\n",
        "species_markers = {'Iris-setosa': 'o', 'Iris-versicolor': 's', 'Iris-virginica': '^'}\n",
        "for species in df['species'].unique():\n",
        "  species_data = df[df['species'] == species]\n",
        "  plt.scatter(species_data['petal_length'], species_data['petal_width'], label=species, marker=species_markers[species])\n",
        "\n",
        "plt.xlabel('Petal Length (cm)')\n",
        "plt.ylabel('Petal Width (cm)')\n",
        "plt.title('Petal Length vs. Petal Width by Species')\n",
        "plt.legend()\n",
        "plt.show()"
      ],
      "metadata": {
        "colab": {
          "base_uri": "https://localhost:8080/",
          "height": 472
        },
        "id": "sK9mJmpDYWY-",
        "outputId": "a46ad6f7-de91-4b59-e60f-460c0767ddea"
      },
      "execution_count": null,
      "outputs": [
        {
          "output_type": "display_data",
          "data": {
            "text/plain": [
              "<Figure size 640x480 with 1 Axes>"
            ],
            "image/png": "[encoded data removed]"
          },
          "metadata": {}
        }
      ]
    },
    {
      "cell_type": "markdown",
      "source": [
        "**Resources**\n",
        "1. How to setup python in local system wit VS Studio?\n",
        "Link: https://youtu.be/D2cwvpJSBX4?si=1UKjBss1_GeU2_gi\n",
        "2. Complete python tutorial: https://youtu.be/_uQrJ0TkZlc?si=cmMeWBaVwGMabE_G"
      ],
      "metadata": {
        "id": "KgNGbhMxpeub"
      }
    },
    {
      "cell_type": "markdown",
      "source": [
        "**Connect on LinkedIn: https://www.linkedin.com/in/suklav/**"
      ],
      "metadata": {
        "id": "qNQ_pUGD2ytU"
      }
    }
  ]
}